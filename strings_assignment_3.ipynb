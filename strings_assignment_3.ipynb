{
  "nbformat": 4,
  "nbformat_minor": 0,
  "metadata": {
    "colab": {
      "provenance": [],
      "include_colab_link": true
    },
    "kernelspec": {
      "name": "python3",
      "display_name": "Python 3"
    },
    "language_info": {
      "name": "python"
    }
  },
  "cells": [
    {
      "cell_type": "markdown",
      "metadata": {
        "id": "view-in-github",
        "colab_type": "text"
      },
      "source": [
        "<a href=\"https://colab.research.google.com/github/219x1a0539/KaipaSuchitra/blob/main/strings_assignment_3.ipynb\" target=\"_parent\"><img src=\"https://colab.research.google.com/assets/colab-badge.svg\" alt=\"Open In Colab\"/></a>"
      ]
    },
    {
      "cell_type": "markdown",
      "source": [
        "1.Write a Python program to count the number of vowels in a string.\n",
        "\n",
        "input : hasdfgeuionhjl"
      ],
      "metadata": {
        "id": "q8RkYTES1QUW"
      }
    },
    {
      "cell_type": "code",
      "source": [
        "# write your code here\n",
        "def count_vowels(input_string):\n",
        "    vowels = 'aeiou'\n",
        "    count = 0\n",
        "    for char in input_string.lower():\n",
        "        if char in vowels:\n",
        "            count += 1\n",
        "    return count\n",
        "\n",
        "input_str = 'hasdfgeuionhjl'\n",
        "\n",
        "vowel_count = count_vowels(input_str)\n",
        "\n",
        "print(f\"The number of vowels in the string is: {vowel_count}\")\n"
      ],
      "metadata": {
        "id": "UHi6ezjV1X0s",
        "colab": {
          "base_uri": "https://localhost:8080/"
        },
        "outputId": "a05d08cf-f59c-49a6-ab02-1522d993c6ee"
      },
      "execution_count": null,
      "outputs": [
        {
          "output_type": "stream",
          "name": "stdout",
          "text": [
            "The number of vowels in the string is: 5\n"
          ]
        }
      ]
    },
    {
      "cell_type": "markdown",
      "source": [
        "2.Write a Python program to count the occurrences of each word in a sentence.\n",
        "\n",
        "input : hi hello hi and and hi more and more programming"
      ],
      "metadata": {
        "id": "v7GBEK161QWy"
      }
    },
    {
      "cell_type": "code",
      "source": [
        "# write your code here\n",
        "from collections import Counter\n",
        "\n",
        "def count_word_occurrences(sentence):\n",
        "    words = sentence.split()\n",
        "    word_counts = Counter(words)\n",
        "    return word_counts\n",
        "\n",
        "sentence = \"hi hello hi and and hi more and more programming\"\n",
        "\n",
        "occurrences = count_word_occurrences(sentence)\n",
        "\n",
        "for word, count in occurrences.items():\n",
        "    print(f\"'{word}': {count}\")\n"
      ],
      "metadata": {
        "id": "R-UzDybK1uZo",
        "colab": {
          "base_uri": "https://localhost:8080/"
        },
        "outputId": "d88433f5-aaa8-4a8f-b5d8-af77b45ab5a6"
      },
      "execution_count": null,
      "outputs": [
        {
          "output_type": "stream",
          "name": "stdout",
          "text": [
            "'hi': 3\n",
            "'hello': 1\n",
            "'and': 3\n",
            "'more': 2\n",
            "'programming': 1\n"
          ]
        }
      ]
    },
    {
      "cell_type": "markdown",
      "source": [
        "3.In python how can you differentiate strings and lists. Give atleast 5 different comparisons between them."
      ],
      "metadata": {
        "id": "evCcw-0H1QY9"
      }
    },
    {
      "cell_type": "markdown",
      "source": [
        "In Python, strings and lists are both sequence data types that share some common behaviors, such as indexing and iteration. However, they have distinct characteristics that set them apart. Here are five key differences between strings and lists:\n",
        "\n",
        "Mutability:\n",
        "\n",
        "Strings: Immutable; once created, their content cannot be changed.\n",
        "Lists: Mutable; their elements can be modified, added, or removed.\n",
        "Example:\n"
      ],
      "metadata": {
        "id": "GrE6Jj8xjxhJ"
      }
    },
    {
      "cell_type": "markdown",
      "source": [
        "Answer:"
      ],
      "metadata": {
        "id": "OfiTI0pv1QbU"
      }
    },
    {
      "cell_type": "code",
      "source": [
        "s = \"hello\"\n",
        "\n",
        "lst = ['h', 'e', 'l', 'l', 'o']\n",
        "lst[0] = 'y'\n"
      ],
      "metadata": {
        "id": "dZP3_Btsj8IB"
      },
      "execution_count": null,
      "outputs": []
    },
    {
      "cell_type": "markdown",
      "source": [
        "Element Types:\n",
        "\n",
        "Strings: Consist exclusively of characters (text).\n",
        "Lists: Can contain elements of various data types, including numbers, strings, and other lists.\n",
        "Example:"
      ],
      "metadata": {
        "id": "CDJHpQIrkC2H"
      }
    },
    {
      "cell_type": "code",
      "source": [
        "s = \"hello\"\n",
        "\n",
        "lst = [1, \"two\", 3.0, [4, 5]]"
      ],
      "metadata": {
        "id": "VrYTO5K7kJ3u"
      },
      "execution_count": null,
      "outputs": []
    },
    {
      "cell_type": "markdown",
      "source": [
        "Methods and Functions:\n",
        "\n",
        "Strings: Offer specific methods like .upper(), .lower(), .find(), and .replace().\n",
        "Lists: Provide methods such as .append(), .extend(), .remove(), and .sort().\n",
        "Example:"
      ],
      "metadata": {
        "id": "6mXBIarBkM2-"
      }
    },
    {
      "cell_type": "code",
      "source": [
        "s = \"hello\"\n",
        "s_upper = s.upper()\n",
        "\n",
        "lst = [3, 1, 2]\n",
        "lst.sort()\n"
      ],
      "metadata": {
        "id": "Fr_L5AfykRUU"
      },
      "execution_count": null,
      "outputs": []
    },
    {
      "cell_type": "markdown",
      "source": [
        "Concatenation:\n",
        "\n",
        "Strings: Concatenation results in a new string.\n",
        "Lists: Concatenation results in a new list.\n",
        "Example:"
      ],
      "metadata": {
        "id": "3MKzOZL8kT-n"
      }
    },
    {
      "cell_type": "code",
      "source": [
        "s1 = \"hello\"\n",
        "s2 = \"world\"\n",
        "s3 = s1 + s2\n",
        "\n",
        "lst1 = [1, 2]\n",
        "lst2 = [3, 4]\n",
        "lst3 = lst1 + lst2\n"
      ],
      "metadata": {
        "id": "Hsbf2ynkkYqy"
      },
      "execution_count": null,
      "outputs": []
    },
    {
      "cell_type": "markdown",
      "source": [
        "Iteration:\n",
        "\n",
        "Strings: Iterating over a string yields each character.\n",
        "Lists: Iterating over a list yields each element, which can be of any data type.\n",
        "Example:"
      ],
      "metadata": {
        "id": "5bz1sTWhkcDe"
      }
    },
    {
      "cell_type": "code",
      "source": [
        "s = \"abc\"\n",
        "for char in s:\n",
        "    print(char)\n",
        "\n",
        "lst = [1, 'two', 3.0]\n",
        "for item in lst:\n",
        "    print(item)\n"
      ],
      "metadata": {
        "colab": {
          "base_uri": "https://localhost:8080/"
        },
        "id": "CsRFwtuEkfff",
        "outputId": "6cb6341f-88c0-480c-fbdd-6a28e43e8e86"
      },
      "execution_count": null,
      "outputs": [
        {
          "output_type": "stream",
          "name": "stdout",
          "text": [
            "a\n",
            "b\n",
            "c\n",
            "1\n",
            "two\n",
            "3.0\n"
          ]
        }
      ]
    },
    {
      "cell_type": "markdown",
      "source": [
        "4.Write a string for your own of approximately 40 in length and perform any 5 different string operations on that."
      ],
      "metadata": {
        "id": "riR1PWxG1Qdq"
      }
    },
    {
      "cell_type": "code",
      "source": [
        "#Write your code here\n",
        "text = \"Exploring Python string methods is fun!\"\n"
      ],
      "metadata": {
        "id": "3bHyrDS12e8i"
      },
      "execution_count": null,
      "outputs": []
    },
    {
      "cell_type": "markdown",
      "source": [
        "Convert to Uppercase:\n",
        "\n",
        "The upper() method transforms all characters in the string to uppercase."
      ],
      "metadata": {
        "id": "fdKjGZGxktJF"
      }
    },
    {
      "cell_type": "code",
      "source": [
        "uppercase_text = text.upper()\n",
        "print(uppercase_text)\n"
      ],
      "metadata": {
        "colab": {
          "base_uri": "https://localhost:8080/"
        },
        "id": "7S7lfpImkxII",
        "outputId": "5cd7f7f7-60fd-40c4-c971-aa2cd1e2c864"
      },
      "execution_count": null,
      "outputs": [
        {
          "output_type": "stream",
          "name": "stdout",
          "text": [
            "EXPLORING PYTHON STRING METHODS IS FUN!\n"
          ]
        }
      ]
    },
    {
      "cell_type": "markdown",
      "source": [
        "Replace a Substring:\n",
        "\n",
        "The replace() method substitutes a specified substring with another."
      ],
      "metadata": {
        "id": "I1HKzrkRkz_A"
      }
    },
    {
      "cell_type": "code",
      "source": [
        "replaced_text = text.replace(\"fun\", \"awesome\")\n",
        "print(replaced_text)\n"
      ],
      "metadata": {
        "colab": {
          "base_uri": "https://localhost:8080/"
        },
        "id": "mXX5VeX-lBSQ",
        "outputId": "efaf457f-f3bd-4e56-8bba-4bf308ba905b"
      },
      "execution_count": null,
      "outputs": [
        {
          "output_type": "stream",
          "name": "stdout",
          "text": [
            "Exploring Python string methods is awesome!\n"
          ]
        }
      ]
    },
    {
      "cell_type": "markdown",
      "source": [
        "Find the Position of a Substring:\n",
        "\n",
        "The find() method returns the lowest index of the substring if it's found in the string; otherwise, it returns -1."
      ],
      "metadata": {
        "id": "xYn5DkUclJ1P"
      }
    },
    {
      "cell_type": "code",
      "source": [
        "position = text.find(\"Python\")\n",
        "print(position)\n"
      ],
      "metadata": {
        "colab": {
          "base_uri": "https://localhost:8080/"
        },
        "id": "25px2Ej7lNSF",
        "outputId": "2dc4249a-4321-4106-d784-203bd15f1b6d"
      },
      "execution_count": null,
      "outputs": [
        {
          "output_type": "stream",
          "name": "stdout",
          "text": [
            "10\n"
          ]
        }
      ]
    },
    {
      "cell_type": "markdown",
      "source": [
        "Check if the String Starts with a Specific Substring:\n",
        "\n",
        "The startswith() method checks if the string begins with the specified substring."
      ],
      "metadata": {
        "id": "8HOd-UfHlQW3"
      }
    },
    {
      "cell_type": "code",
      "source": [
        "starts_with_exploring = text.startswith(\"Exploring\")\n",
        "print(starts_with_exploring)\n"
      ],
      "metadata": {
        "colab": {
          "base_uri": "https://localhost:8080/"
        },
        "id": "7E0C1n3olUnf",
        "outputId": "9afcaee1-1daf-4cb3-cb8a-e5c3337021bf"
      },
      "execution_count": null,
      "outputs": [
        {
          "output_type": "stream",
          "name": "stdout",
          "text": [
            "True\n"
          ]
        }
      ]
    },
    {
      "cell_type": "markdown",
      "source": [
        "Split the String into a List of Words:\n",
        "\n",
        "The split() method divides the string into a list where each word is a list item. By default, it splits by whitespace."
      ],
      "metadata": {
        "id": "LNese3WplYCR"
      }
    },
    {
      "cell_type": "code",
      "source": [
        "words_list = text.split()\n",
        "print(words_list)\n"
      ],
      "metadata": {
        "colab": {
          "base_uri": "https://localhost:8080/"
        },
        "id": "Bv5oMFIclbEU",
        "outputId": "69bac125-2e61-401c-d4e6-4b074bc90924"
      },
      "execution_count": null,
      "outputs": [
        {
          "output_type": "stream",
          "name": "stdout",
          "text": [
            "['Exploring', 'Python', 'string', 'methods', 'is', 'fun!']\n"
          ]
        }
      ]
    },
    {
      "cell_type": "markdown",
      "source": [
        "5.Explain the concatination in strings with a neat example."
      ],
      "metadata": {
        "id": "bbUm7VVN1Qfu"
      }
    },
    {
      "cell_type": "code",
      "source": [
        "#write your code and explanation here"
      ],
      "metadata": {
        "id": "y9292Q452tF0"
      },
      "execution_count": null,
      "outputs": []
    },
    {
      "cell_type": "markdown",
      "source": [
        "Common Methods of String Concatenation in Python:\n",
        "\n",
        "Using the + Operator: The + operator combines two strings into one."
      ],
      "metadata": {
        "id": "99PKVg0RllqB"
      }
    },
    {
      "cell_type": "code",
      "source": [
        "str1 = \"Hello\"\n",
        "str2 = \"World\"\n",
        "result = str1 + \" \" + str2\n",
        "print(result)\n"
      ],
      "metadata": {
        "colab": {
          "base_uri": "https://localhost:8080/"
        },
        "id": "sd3zibUslnAa",
        "outputId": "f190a064-2df9-4106-e852-80ddbef273cd"
      },
      "execution_count": null,
      "outputs": [
        {
          "output_type": "stream",
          "name": "stdout",
          "text": [
            "Hello World\n"
          ]
        }
      ]
    },
    {
      "cell_type": "markdown",
      "source": [
        "Using the join() Method: The join() method concatenates a list or iterable of strings into a single string, with a specified separator."
      ],
      "metadata": {
        "id": "JUrKuJ4Clq-j"
      }
    },
    {
      "cell_type": "code",
      "source": [
        "words = [\"Hello\", \"World\"]\n",
        "result = \" \".join(words)\n",
        "print(result)\n"
      ],
      "metadata": {
        "colab": {
          "base_uri": "https://localhost:8080/"
        },
        "id": "Lo_JwkEwlpos",
        "outputId": "aec62500-031b-4e48-9a5f-3c2f61c628c1"
      },
      "execution_count": null,
      "outputs": [
        {
          "output_type": "stream",
          "name": "stdout",
          "text": [
            "Hello World\n"
          ]
        }
      ]
    },
    {
      "cell_type": "markdown",
      "source": [
        "Using Formatted String Literals (f-strings): Introduced in Python 3.6, f-strings provide a concise and readable way to concatenate strings and include expressions inside string literals."
      ],
      "metadata": {
        "id": "mD1gIsrMlye-"
      }
    },
    {
      "cell_type": "code",
      "source": [
        "name = \"World\"\n",
        "result = f\"Hello {name}\"\n",
        "print(result)\n"
      ],
      "metadata": {
        "colab": {
          "base_uri": "https://localhost:8080/"
        },
        "id": "3VclVHxLl2ep",
        "outputId": "886df7b1-d47e-404f-eee6-9963352cf2b8"
      },
      "execution_count": null,
      "outputs": [
        {
          "output_type": "stream",
          "name": "stdout",
          "text": [
            "Hello World\n"
          ]
        }
      ]
    }
  ]
}