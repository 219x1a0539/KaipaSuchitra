{
  "nbformat": 4,
  "nbformat_minor": 0,
  "metadata": {
    "colab": {
      "provenance": [],
      "include_colab_link": true
    },
    "kernelspec": {
      "name": "python3",
      "display_name": "Python 3"
    },
    "language_info": {
      "name": "python"
    }
  },
  "cells": [
    {
      "cell_type": "markdown",
      "metadata": {
        "id": "view-in-github",
        "colab_type": "text"
      },
      "source": [
        "<a href=\"https://colab.research.google.com/github/219x1a0539/KaipaSuchitra/blob/main/strings_assignment_2.ipynb\" target=\"_parent\"><img src=\"https://colab.research.google.com/assets/colab-badge.svg\" alt=\"Open In Colab\"/></a>"
      ]
    },
    {
      "cell_type": "markdown",
      "source": [
        "## Strings Assignment 2"
      ],
      "metadata": {
        "id": "EPGLodluvWuN"
      }
    },
    {
      "cell_type": "markdown",
      "source": [
        "1.Write a Python program to reverse a string.\n",
        "\n",
        "input : hellohowareyoudoingandhowisyourhealth"
      ],
      "metadata": {
        "id": "ddM5gMtivkoi"
      }
    },
    {
      "cell_type": "markdown",
      "source": [
        "Reversing a string in Python can be achieved through multiple methods. Below are three common approaches:\n",
        "\n",
        "Using String Slicing:\n",
        "\n",
        "Python's slicing feature allows for concise reversal of a string."
      ],
      "metadata": {
        "id": "RoyFpo6Qm-bs"
      }
    },
    {
      "cell_type": "code",
      "source": [
        "input_string = \"hellohowareyoudoingandhowisyourhealth\"\n",
        "reversed_string = input_string[::-1]\n",
        "print(reversed_string)\n"
      ],
      "metadata": {
        "colab": {
          "base_uri": "https://localhost:8080/"
        },
        "id": "EB8KEY3Vm_vX",
        "outputId": "3d3bcdc7-a153-44f2-8ee3-dfbff9d51889"
      },
      "execution_count": null,
      "outputs": [
        {
          "output_type": "stream",
          "name": "stdout",
          "text": [
            "htlaehruoysiwohdnagnioduoyerawoholleh\n"
          ]
        }
      ]
    },
    {
      "cell_type": "markdown",
      "source": [
        "Using the reversed() Function with join():\n",
        "\n",
        "The reversed() function returns an iterator that accesses the given string in reverse order, and ''.join() combines the characters into a new string."
      ],
      "metadata": {
        "id": "N6Im_lkLnDeF"
      }
    },
    {
      "cell_type": "code",
      "source": [
        "input_string = \"hellohowareyoudoingandhowisyourhealth\"\n",
        "reversed_string = ''.join(reversed(input_string))\n",
        "print(reversed_string)\n"
      ],
      "metadata": {
        "colab": {
          "base_uri": "https://localhost:8080/"
        },
        "id": "8H2TgT3RnHb-",
        "outputId": "bb632f7b-c66c-42f1-8747-2027b88075b3"
      },
      "execution_count": null,
      "outputs": [
        {
          "output_type": "stream",
          "name": "stdout",
          "text": [
            "htlaehruoysiwohdnagnioduoyerawoholleh\n"
          ]
        }
      ]
    },
    {
      "cell_type": "markdown",
      "source": [
        "Using a Loop:\n",
        "\n",
        "A manual approach involves iterating over the string and constructing the reversed string."
      ],
      "metadata": {
        "id": "WvfSqvH3nKy4"
      }
    },
    {
      "cell_type": "code",
      "source": [
        "input_string = \"hellohowareyoudoingandhowisyourhealth\"\n",
        "reversed_string = ''\n",
        "for char in input_string:\n",
        "    reversed_string = char + reversed_string\n",
        "print(reversed_string)\n"
      ],
      "metadata": {
        "colab": {
          "base_uri": "https://localhost:8080/"
        },
        "id": "mPeCObjvnRux",
        "outputId": "e17badaa-a4ae-4366-8492-91743830f12c"
      },
      "execution_count": null,
      "outputs": [
        {
          "output_type": "stream",
          "name": "stdout",
          "text": [
            "htlaehruoysiwohdnagnioduoyerawoholleh\n"
          ]
        }
      ]
    },
    {
      "cell_type": "markdown",
      "source": [
        "2.Write a Python program to capitalize the first letter of each word in a sentence.\n",
        "\n",
        "input : hello welcome to internship"
      ],
      "metadata": {
        "id": "jEVFoo3evnhr"
      }
    },
    {
      "cell_type": "code",
      "source": [
        "# write your code here\n",
        "input_string = \"hello welcome to internship\"\n",
        "capitalized_string = input_string.title()\n",
        "print(capitalized_string)\n"
      ],
      "metadata": {
        "id": "CTP3QwiGwT93",
        "colab": {
          "base_uri": "https://localhost:8080/"
        },
        "outputId": "e17145c4-220a-48d5-e169-bc1ce181a88a"
      },
      "execution_count": null,
      "outputs": [
        {
          "output_type": "stream",
          "name": "stdout",
          "text": [
            "Hello Welcome To Internship\n"
          ]
        }
      ]
    },
    {
      "cell_type": "code",
      "source": [
        "input_string = \"hello welcome to internship\"\n",
        "words = input_string.split()\n",
        "capitalized_words = [word.capitalize() for word in words]\n",
        "capitalized_string = ' '.join(capitalized_words)\n",
        "print(capitalized_string)\n"
      ],
      "metadata": {
        "colab": {
          "base_uri": "https://localhost:8080/"
        },
        "id": "6tKgISjgnc8H",
        "outputId": "220459ab-96fb-44de-b1e2-6a6c02285bad"
      },
      "execution_count": null,
      "outputs": [
        {
          "output_type": "stream",
          "name": "stdout",
          "text": [
            "Hello Welcome To Internship\n"
          ]
        }
      ]
    },
    {
      "cell_type": "markdown",
      "source": [
        "3.Write a Python program to find the longest word in a sentence.\n",
        "\n",
        "input : \"he is very good at painting and paint good sketches\""
      ],
      "metadata": {
        "id": "LiGvyCoVvnyC"
      }
    },
    {
      "cell_type": "code",
      "source": [
        "# write your code here\n",
        "def find_longest_word(sentence):\n",
        "    words = sentence.split()\n",
        "    longest_word = max(words, key=len)\n",
        "    return longest_word\n",
        "\n",
        "\n",
        "input_sentence = \"he is very good at painting and paint good sketches\"\n",
        "longest_word = find_longest_word(input_sentence)\n",
        "print(f\"The longest word is: '{longest_word}'\")\n"
      ],
      "metadata": {
        "id": "clATuC3cwwPI",
        "colab": {
          "base_uri": "https://localhost:8080/"
        },
        "outputId": "2856cd90-e4e7-4c59-d821-5eaf0aa0c3d6"
      },
      "execution_count": null,
      "outputs": [
        {
          "output_type": "stream",
          "name": "stdout",
          "text": [
            "The longest word is: 'painting'\n"
          ]
        }
      ]
    },
    {
      "cell_type": "markdown",
      "source": [
        "4.Write a Python program to find the length of the last word in a sentence.\n",
        "\n",
        "input : this is the most beautiful beach I ever visited"
      ],
      "metadata": {
        "id": "-QhCplQjvn0w"
      }
    },
    {
      "cell_type": "code",
      "source": [
        "# write your code here\n",
        "def length_of_last_word(sentence):\n",
        "    words = sentence.split()\n",
        "    if not words:\n",
        "        return 0\n",
        "    return len(words[-1])\n",
        "\n",
        "input_sentence = \"this is the most beautiful beach I ever visited\"\n",
        "print(f\"The length of the last word is: {length_of_last_word(input_sentence)}\")\n"
      ],
      "metadata": {
        "id": "QwzbahlkxGZ-",
        "colab": {
          "base_uri": "https://localhost:8080/"
        },
        "outputId": "c5c897b8-0c08-4f89-835c-3e1102f5bba0"
      },
      "execution_count": null,
      "outputs": [
        {
          "output_type": "stream",
          "name": "stdout",
          "text": [
            "The length of the last word is: 7\n"
          ]
        }
      ]
    },
    {
      "cell_type": "markdown",
      "source": [
        "5.Write a Python program to find the second most frequent character in a string.\n",
        "\n",
        "input: the hospital is very big and this hospital has so many doctors"
      ],
      "metadata": {
        "id": "cZiXxZhsvn6q"
      }
    },
    {
      "cell_type": "code",
      "source": [
        "# write your code here\n",
        "from collections import Counter\n",
        "def second_most_frequent_char(input_string):\n",
        "    frequency = Counter(input_string)\n",
        "\n",
        "    if ' ' in frequency:\n",
        "        del frequency[' ']\n",
        "\n",
        "    common_chars = frequency.most_common(2)\n",
        "\n",
        "    if len(common_chars) < 2:\n",
        "        return None\n",
        "\n",
        "    return common_chars[1][0]\n",
        "input_string = \"the hospital is very big and this hospital has so many doctors\"\n",
        "result = second_most_frequent_char(input_string)\n",
        "if result:\n",
        "    print(f\"The second most frequent character is: '{result}'\")\n",
        "else:\n",
        "    print(\"Not enough distinct characters to determine the second most frequent one.\")\n"
      ],
      "metadata": {
        "id": "EnHquuoCxi7F",
        "colab": {
          "base_uri": "https://localhost:8080/"
        },
        "outputId": "dab32d41-d267-4aac-acf5-ffda1c357c2e"
      },
      "execution_count": null,
      "outputs": [
        {
          "output_type": "stream",
          "name": "stdout",
          "text": [
            "The second most frequent character is: 't'\n"
          ]
        }
      ]
    }
  ]
}