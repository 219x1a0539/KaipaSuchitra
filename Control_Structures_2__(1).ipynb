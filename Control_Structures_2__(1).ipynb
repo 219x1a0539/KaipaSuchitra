{
  "nbformat": 4,
  "nbformat_minor": 0,
  "metadata": {
    "colab": {
      "provenance": [],
      "include_colab_link": true
    },
    "kernelspec": {
      "name": "python3",
      "display_name": "Python 3"
    },
    "language_info": {
      "name": "python"
    }
  },
  "cells": [
    {
      "cell_type": "markdown",
      "metadata": {
        "id": "view-in-github",
        "colab_type": "text"
      },
      "source": [
        "<a href=\"https://colab.research.google.com/github/219x1a0539/KaipaSuchitra/blob/main/Control_Structures_2__(1).ipynb\" target=\"_parent\"><img src=\"https://colab.research.google.com/assets/colab-badge.svg\" alt=\"Open In Colab\"/></a>"
      ]
    },
    {
      "cell_type": "markdown",
      "source": [
        "*** USE THE CONCEPT OF LOOPS TO SOLVE THE BELOW PROGRAMS***"
      ],
      "metadata": {
        "id": "LntIlHO5OfPf"
      }
    },
    {
      "cell_type": "markdown",
      "source": [
        "1) Python program to count the total number of digits in a number.\n",
        "\n",
        "TAKE THE INPUT NUMBER : 123456\n",
        "\n",
        "\n",
        "\n"
      ],
      "metadata": {
        "id": "vxHfbNtoOfRV"
      }
    },
    {
      "cell_type": "code",
      "source": [
        "#wRITE YOUR CODE HERE\n",
        "def count_digits(number):\n",
        "    count = 0\n",
        "    while number != 0:\n",
        "        number //= 10\n",
        "        count += 1\n",
        "    return count\n",
        "number = 123456\n",
        "print(f\"The number of digits in {number} is {count_digits(number)}.\")\n",
        "\n"
      ],
      "metadata": {
        "id": "_PKg5umLO2-q",
        "colab": {
          "base_uri": "https://localhost:8080/"
        },
        "outputId": "9324c109-d695-48e1-a0da-bd03e9a7f673"
      },
      "execution_count": null,
      "outputs": [
        {
          "output_type": "stream",
          "name": "stdout",
          "text": [
            "The number of digits in 123456 is 6.\n"
          ]
        }
      ]
    },
    {
      "cell_type": "markdown",
      "source": [
        "2) Python program to count the number of even and odd numbers from a series of numbers.\n",
        "\n",
        "num_list = [1,3,5,6,99,134,55]"
      ],
      "metadata": {
        "id": "bXf8Z8feOfTn"
      }
    },
    {
      "cell_type": "code",
      "source": [
        "#WRITE YOUR CODE HERE\n",
        "def count_even_odd(numbers):\n",
        "    \"\"\"\n",
        "    Count the number of even and odd numbers in a list.\n",
        "\n",
        "    Parameters:\n",
        "    - numbers: A list of integers.\n",
        "\n",
        "    Returns:\n",
        "    - A tuple containing two elements:\n",
        "      - The count of even numbers.\n",
        "      - The count of odd numbers.\n",
        "    \"\"\"\n",
        "    even_count = 0\n",
        "    odd_count = 0\n",
        "    for num in numbers:\n",
        "        if num % 2 == 0:\n",
        "            even_count += 1\n",
        "        else:\n",
        "            odd_count += 1\n",
        "    return even_count, odd_count\n",
        "\n",
        "numbers = [1, 2, 3, 4, 5, 6, 7, 8, 9]\n",
        "even_count, odd_count = count_even_odd(numbers)\n",
        "print(f\"Number of even numbers: {even_count}\")\n",
        "print(f\"Number of odd numbers: {odd_count}\")\n"
      ],
      "metadata": {
        "id": "QzZjjwRCPIip",
        "colab": {
          "base_uri": "https://localhost:8080/"
        },
        "outputId": "be5c7521-22ea-4b2f-eaa8-9885fff865c8"
      },
      "execution_count": null,
      "outputs": [
        {
          "output_type": "stream",
          "name": "stdout",
          "text": [
            "Number of even numbers: 4\n",
            "Number of odd numbers: 5\n"
          ]
        }
      ]
    },
    {
      "cell_type": "markdown",
      "source": [
        "3) Python program to get the Fibonacci series between 0 to 50."
      ],
      "metadata": {
        "id": "Ae6CdE7hOfWZ"
      }
    },
    {
      "cell_type": "code",
      "source": [
        "#WRITE YOUR CODE HERE\n",
        "def fibonacci_series_upto_50():\n",
        "    a, b = 0, 1\n",
        "    while a <= 50:\n",
        "        print(a, end=' ')\n",
        "        a, b = b, a + b\n",
        "\n",
        "fibonacci_series_upto_50()\n"
      ],
      "metadata": {
        "id": "_IIZYCLPPTwI",
        "colab": {
          "base_uri": "https://localhost:8080/"
        },
        "outputId": "175fee2b-68bc-4e7c-dce1-e8c12ebb4e45"
      },
      "execution_count": null,
      "outputs": [
        {
          "output_type": "stream",
          "name": "stdout",
          "text": [
            "0 1 1 2 3 5 8 13 21 34 "
          ]
        }
      ]
    },
    {
      "cell_type": "markdown",
      "source": [
        "4) Python program that accepts a string and calculates the number of digits and letters.\n",
        "\n",
        "Input\n",
        "\n",
        "WEBBLINDERS1234"
      ],
      "metadata": {
        "id": "VYbquVMROfZz"
      }
    },
    {
      "cell_type": "code",
      "source": [
        "#WRITE YOUR CODE HERE\n",
        "def count_letters_and_digits(input_string):\n",
        "    letters_count = sum(c.isalpha() for c in input_string)\n",
        "    digits_count = sum(c.isdigit() for c in input_string)\n",
        "    return letters_count, digits_count\n",
        "input_string = \"WEBBLINDERS1234\"\n",
        "letters, digits = count_letters_and_digits(input_string)\n",
        "print(f\"Letters: {letters}\")\n",
        "print(f\"Digits: {digits}\")\n"
      ],
      "metadata": {
        "id": "iGYeja7XPop3",
        "colab": {
          "base_uri": "https://localhost:8080/"
        },
        "outputId": "fadb383d-7a3a-4436-ad29-054c8fc65b74"
      },
      "execution_count": null,
      "outputs": [
        {
          "output_type": "stream",
          "name": "stdout",
          "text": [
            "Letters: 11\n",
            "Digits: 4\n"
          ]
        }
      ]
    },
    {
      "cell_type": "markdown",
      "source": [
        "5) Python program to display all numbers within a range except the prime numbers.\n",
        "\n",
        "INPUT RANGE : 30 TO 80"
      ],
      "metadata": {
        "id": "RiVenPeDPqs_"
      }
    },
    {
      "cell_type": "code",
      "source": [
        "def is_prime(n):\n",
        "    \"\"\"\n",
        "    Check if a number is prime.\n",
        "\n",
        "    Parameters:\n",
        "    - n: The number to check.\n",
        "\n",
        "    Returns:\n",
        "    - True if n is a prime number; False otherwise.\n",
        "    \"\"\"\n",
        "    if n <= 1:\n",
        "        return False\n",
        "    if n <= 3:\n",
        "        return True\n",
        "    if n % 2 == 0 or n % 3 == 0:\n",
        "        return False\n",
        "    i = 5\n",
        "    while i * i <= n:\n",
        "        if n % i == 0 or n % (i + 2) == 0:\n",
        "            return False\n",
        "        i += 6\n",
        "    return True\n",
        "\n",
        "def non_prime_numbers(start, end):\n",
        "    \"\"\"\n",
        "    Generate a list of non-prime numbers within a given range.\n",
        "\n",
        "    Parameters:\n",
        "    - start: The beginning of the range (inclusive).\n",
        "    - end: The end of the range (inclusive).\n",
        "\n",
        "    Returns:\n",
        "    - A list of non-prime numbers within the specified range.\n",
        "    \"\"\"\n",
        "    non_primes = []\n",
        "    for num in range(start, end + 1):\n",
        "        if not is_prime(num):\n",
        "            non_primes.append(num)\n",
        "    return non_primes\n",
        "\n",
        "start_range = 30\n",
        "end_range = 80\n",
        "non_primes = non_prime_numbers(start_range, end_range)\n",
        "print(f\"Non-prime numbers between {start_range} and {end_range}:\")\n",
        "print(non_primes)\n"
      ],
      "metadata": {
        "colab": {
          "base_uri": "https://localhost:8080/"
        },
        "id": "g5A7GtYMNnts",
        "outputId": "2a6c8b8c-8279-422c-ee2a-637982bbb0ad"
      },
      "execution_count": null,
      "outputs": [
        {
          "output_type": "stream",
          "name": "stdout",
          "text": [
            "Non-prime numbers between 30 and 80:\n",
            "[30, 32, 33, 34, 35, 36, 38, 39, 40, 42, 44, 45, 46, 48, 49, 50, 51, 52, 54, 55, 56, 57, 58, 60, 62, 63, 64, 65, 66, 68, 69, 70, 72, 74, 75, 76, 77, 78, 80]\n"
          ]
        }
      ]
    }
  ]
}