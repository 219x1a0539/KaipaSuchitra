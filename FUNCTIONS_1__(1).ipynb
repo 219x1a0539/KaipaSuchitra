{
  "nbformat": 4,
  "nbformat_minor": 0,
  "metadata": {
    "colab": {
      "provenance": [],
      "include_colab_link": true
    },
    "kernelspec": {
      "name": "python3",
      "display_name": "Python 3"
    },
    "language_info": {
      "name": "python"
    }
  },
  "cells": [
    {
      "cell_type": "markdown",
      "metadata": {
        "id": "view-in-github",
        "colab_type": "text"
      },
      "source": [
        "<a href=\"https://colab.research.google.com/github/219x1a0539/KaipaSuchitra/blob/main/FUNCTIONS_1__(1).ipynb\" target=\"_parent\"><img src=\"https://colab.research.google.com/assets/colab-badge.svg\" alt=\"Open In Colab\"/></a>"
      ]
    },
    {
      "cell_type": "markdown",
      "source": [
        "*** USE THE CONCEPT OF FUNCTIONS TO SOLVE THE BELOW PROGRAMMING QUESTIONS ***"
      ],
      "metadata": {
        "id": "Rg2ZBqGAQwAf"
      }
    },
    {
      "cell_type": "markdown",
      "source": [
        "1) Write a Python function to sum all the numbers in a list.\n",
        "\n",
        "Sample List : (8, 2, 3, 0, 7)\n",
        "\n",
        "Expected Output : 20\n"
      ],
      "metadata": {
        "id": "ScHTvbE1QwCo"
      }
    },
    {
      "cell_type": "code",
      "source": [
        "#WRITE YOUR CODE HERE\n",
        "def sum_of_list(numbers):\n",
        "    return sum(numbers)\n",
        "\n",
        "sample_list = [8, 2, 3, 0, 7]\n",
        "\n",
        "result = sum_of_list(sample_list)\n",
        "print(f\"Sum of the list: {result}\")\n"
      ],
      "metadata": {
        "id": "aR_k4uReQ8Og",
        "colab": {
          "base_uri": "https://localhost:8080/"
        },
        "outputId": "8b6e2f7d-3576-43a0-f702-5dfc4915538a"
      },
      "execution_count": null,
      "outputs": [
        {
          "output_type": "stream",
          "name": "stdout",
          "text": [
            "Sum of the list: 20\n"
          ]
        }
      ]
    },
    {
      "cell_type": "markdown",
      "source": [
        "2) Write a Python function to multiply all the numbers in a list.\n",
        "\n",
        "Sample List : (8, 2, 3, -1, 7)\n",
        "\n",
        "Expected Output : -336"
      ],
      "metadata": {
        "id": "dZtcDLjAQwE-"
      }
    },
    {
      "cell_type": "code",
      "source": [
        "#WRITE YOUR CODE HERE\n",
        "def multiply_list(numbers):\n",
        "    result = 1\n",
        "    for num in numbers:\n",
        "        result *= num\n",
        "    return result\n",
        "\n",
        "sample_list = [8, 2, 3, -1, 7]\n",
        "\n",
        "product = multiply_list(sample_list)\n",
        "print(f\"Product of the list: {product}\")\n"
      ],
      "metadata": {
        "id": "98uwoSPnRHyL",
        "colab": {
          "base_uri": "https://localhost:8080/"
        },
        "outputId": "dbce9a50-783e-4625-9d9d-cf69c66e09f6"
      },
      "execution_count": null,
      "outputs": [
        {
          "output_type": "stream",
          "name": "stdout",
          "text": [
            "Product of the list: -336\n"
          ]
        }
      ]
    },
    {
      "cell_type": "markdown",
      "source": [
        "3) Write a Python program to reverse a string.\n",
        "\n",
        "Sample String : \"1234abcd\"\n",
        "\n",
        "Expected Output : \"dcba4321\""
      ],
      "metadata": {
        "id": "99G7rde1QwHN"
      }
    },
    {
      "cell_type": "code",
      "source": [
        "#WRITE YOUR CODE HERE\n",
        "def reverse_string(s):\n",
        "    return s[::-1]\n",
        "\n",
        "sample_string = \"1234abcd\"\n",
        "reversed_string = reverse_string(sample_string)\n",
        "print(reversed_string)\n"
      ],
      "metadata": {
        "id": "6qmLELFCRQAD",
        "colab": {
          "base_uri": "https://localhost:8080/"
        },
        "outputId": "8efd20f5-8b12-44a9-f79e-d8ee2308311b"
      },
      "execution_count": null,
      "outputs": [
        {
          "output_type": "stream",
          "name": "stdout",
          "text": [
            "dcba4321\n"
          ]
        }
      ]
    },
    {
      "cell_type": "markdown",
      "source": [
        "4) Write a Python function to calculate the factorial of a number (a non-negative integer). The function accepts the number as an argument."
      ],
      "metadata": {
        "id": "_XE8as7eQwJn"
      }
    },
    {
      "cell_type": "code",
      "source": [
        "#WRITE YOUR CODE HERE\n",
        "def calculate_factorial(n):\n",
        "    if not isinstance(n, int) or n < 0:\n",
        "        raise ValueError(\"Factorial is only defined for non-negative integers.\")\n",
        "    if n == 0:\n",
        "        return 1\n",
        "    else:\n",
        "        return n * calculate_factorial(n - 1)\n",
        "\n",
        "number = 5\n",
        "print(f\"The factorial of {number} is {calculate_factorial(number)}.\")\n"
      ],
      "metadata": {
        "id": "Di5n5kNARZdn",
        "colab": {
          "base_uri": "https://localhost:8080/"
        },
        "outputId": "8a544a2b-2fda-4fad-936e-23c15a43ec4b"
      },
      "execution_count": null,
      "outputs": [
        {
          "output_type": "stream",
          "name": "stdout",
          "text": [
            "The factorial of 5 is 120.\n"
          ]
        }
      ]
    },
    {
      "cell_type": "markdown",
      "source": [
        "5) Write a Python function to check whether a number falls within a given\n",
        "range."
      ],
      "metadata": {
        "id": "I2zyMS7XQwLx"
      }
    },
    {
      "cell_type": "code",
      "source": [
        "def is_in_range(number, start, end):\n",
        "    \"\"\"\n",
        "    Check if 'number' is within the range from 'start' to 'end' (inclusive).\n",
        "\n",
        "    Parameters:\n",
        "    - number: The number to check.\n",
        "    - start: The beginning of the range.\n",
        "    - end: The end of the range.\n",
        "\n",
        "    Returns:\n",
        "    - True if 'number' is within the range; False otherwise.\n",
        "    \"\"\"\n",
        "    return start <= number <= end\n",
        "\n",
        "number = 5\n",
        "start = 1\n",
        "end = 10\n",
        "if is_in_range(number, start, end):\n",
        "    print(f\"{number} is within the range of {start} to {end}.\")\n",
        "else:\n",
        "    print(f\"{number} is not within the range of {start} to {end}.\")\n"
      ],
      "metadata": {
        "colab": {
          "base_uri": "https://localhost:8080/"
        },
        "id": "BJV5xl6ytOok",
        "outputId": "d5dcba3b-c8df-41da-b946-9e753c316441"
      },
      "execution_count": null,
      "outputs": [
        {
          "output_type": "stream",
          "name": "stdout",
          "text": [
            "5 is within the range of 1 to 10.\n"
          ]
        }
      ]
    }
  ]
}