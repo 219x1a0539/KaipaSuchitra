{
  "nbformat": 4,
  "nbformat_minor": 0,
  "metadata": {
    "colab": {
      "provenance": [],
      "include_colab_link": true
    },
    "kernelspec": {
      "name": "python3",
      "display_name": "Python 3"
    },
    "language_info": {
      "name": "python"
    }
  },
  "cells": [
    {
      "cell_type": "markdown",
      "metadata": {
        "id": "view-in-github",
        "colab_type": "text"
      },
      "source": [
        "<a href=\"https://colab.research.google.com/github/219x1a0539/KaipaSuchitra/blob/main/Control_structures_1__(1).ipynb\" target=\"_parent\"><img src=\"https://colab.research.google.com/assets/colab-badge.svg\" alt=\"Open In Colab\"/></a>"
      ]
    },
    {
      "cell_type": "markdown",
      "source": [
        "** USE THE CONCEPT OF LOOP TO SOLVE TEHE BELOW QUIRIES **"
      ],
      "metadata": {
        "id": "-j3jwvf4Nex8"
      }
    },
    {
      "cell_type": "markdown",
      "source": [
        "  1) Print the first 10 natural numbers using for loop."
      ],
      "metadata": {
        "id": "e5fJbKobMfrV"
      }
    },
    {
      "cell_type": "code",
      "source": [
        "#Write your code here"
      ],
      "metadata": {
        "id": "dvVRbCfHMiM2"
      },
      "execution_count": null,
      "outputs": []
    },
    {
      "cell_type": "code",
      "source": [
        "\n",
        "for i in range(1, 11):\n",
        "    print(i)\n"
      ],
      "metadata": {
        "id": "rEg4ZVZiM1nb",
        "colab": {
          "base_uri": "https://localhost:8080/"
        },
        "outputId": "10254794-7d78-4120-9bf8-a0162078fa38"
      },
      "execution_count": null,
      "outputs": [
        {
          "output_type": "stream",
          "name": "stdout",
          "text": [
            "1\n",
            "2\n",
            "3\n",
            "4\n",
            "5\n",
            "6\n",
            "7\n",
            "8\n",
            "9\n",
            "10\n"
          ]
        }
      ]
    },
    {
      "cell_type": "markdown",
      "source": [
        "2) Python program to print all the even numbers within the given range.\n",
        "\n",
        "Range = 0 to 100"
      ],
      "metadata": {
        "id": "z6Z_rllrM3EW"
      }
    },
    {
      "cell_type": "code",
      "source": [
        "#Write your code Here\n",
        "for number in range(0, 101, 2):\n",
        "    print(number)\n"
      ],
      "metadata": {
        "id": "iu86kKj8MwAr",
        "colab": {
          "base_uri": "https://localhost:8080/"
        },
        "outputId": "aa61ffd6-310e-4ead-c955-368ce56a6737"
      },
      "execution_count": null,
      "outputs": [
        {
          "output_type": "stream",
          "name": "stdout",
          "text": [
            "0\n",
            "2\n",
            "4\n",
            "6\n",
            "8\n",
            "10\n",
            "12\n",
            "14\n",
            "16\n",
            "18\n",
            "20\n",
            "22\n",
            "24\n",
            "26\n",
            "28\n",
            "30\n",
            "32\n",
            "34\n",
            "36\n",
            "38\n",
            "40\n",
            "42\n",
            "44\n",
            "46\n",
            "48\n",
            "50\n",
            "52\n",
            "54\n",
            "56\n",
            "58\n",
            "60\n",
            "62\n",
            "64\n",
            "66\n",
            "68\n",
            "70\n",
            "72\n",
            "74\n",
            "76\n",
            "78\n",
            "80\n",
            "82\n",
            "84\n",
            "86\n",
            "88\n",
            "90\n",
            "92\n",
            "94\n",
            "96\n",
            "98\n",
            "100\n"
          ]
        }
      ]
    },
    {
      "cell_type": "markdown",
      "source": [
        "3) Python program to calculate the sum of all numbers from 1 to a given number.\n",
        "\n",
        "Given Range = 15"
      ],
      "metadata": {
        "id": "8d-LECSINC6s"
      }
    },
    {
      "cell_type": "code",
      "source": [
        "#Write your Code Here\n",
        "def sum_of_natural_numbers(n):\n",
        "    \"\"\"\n",
        "    Calculate the sum of all natural numbers from 1 to n.\n",
        "\n",
        "    Parameters:\n",
        "    - n: The upper limit of the range (inclusive).\n",
        "\n",
        "    Returns:\n",
        "    - The sum of all natural numbers from 1 to n.\n",
        "    \"\"\"\n",
        "    return n * (n + 1) // 2\n",
        "\n",
        "given_number = 15\n",
        "total_sum = sum_of_natural_numbers(given_number)\n",
        "print(f\"The sum of all numbers from 1 to {given_number} is: {total_sum}\")\n"
      ],
      "metadata": {
        "id": "bBd7nbLLNSoA",
        "colab": {
          "base_uri": "https://localhost:8080/"
        },
        "outputId": "50b95743-7adb-4d69-d29d-01186b9b08b2"
      },
      "execution_count": null,
      "outputs": [
        {
          "output_type": "stream",
          "name": "stdout",
          "text": [
            "The sum of all numbers from 1 to 15 is: 120\n"
          ]
        }
      ]
    },
    {
      "cell_type": "markdown",
      "source": [
        "4) Python program to calculate the sum of all the odd numbers within the given range.\n",
        "\n",
        "Given Range = 10"
      ],
      "metadata": {
        "id": "nKJA-USXNRsk"
      }
    },
    {
      "cell_type": "code",
      "source": [
        "# Write your code Here\n",
        "def sum_of_odd_numbers(start, end):\n",
        "    \"\"\"\n",
        "    Calculate the sum of all odd numbers within a specified range.\n",
        "\n",
        "    Parameters:\n",
        "    - start: The beginning of the range (inclusive).\n",
        "    - end: The end of the range (inclusive).\n",
        "\n",
        "    Returns:\n",
        "    - The sum of all odd numbers within the range.\n",
        "    \"\"\"\n",
        "    total_sum = 0\n",
        "    for number in range(start, end + 1):\n",
        "        if number % 2 != 0:\n",
        "            total_sum += number\n",
        "    return total_sum\n",
        "\n",
        "start_range = 1\n",
        "end_range = 10\n",
        "result = sum_of_odd_numbers(start_range, end_range)\n",
        "print(f\"The sum of all odd numbers from {start_range} to {end_range} is: {result}\")\n"
      ],
      "metadata": {
        "id": "Q520Z2gXNwMV",
        "colab": {
          "base_uri": "https://localhost:8080/"
        },
        "outputId": "1c550531-ee0a-4e84-f09e-03ab90beff40"
      },
      "execution_count": null,
      "outputs": [
        {
          "output_type": "stream",
          "name": "stdout",
          "text": [
            "The sum of all odd numbers from 1 to 10 is: 25\n"
          ]
        }
      ]
    },
    {
      "cell_type": "markdown",
      "source": [
        "5) Python program to print a multiplication table of a given number\n",
        "\n",
        "given number = 5"
      ],
      "metadata": {
        "id": "uTwmyMFiNEM8"
      }
    },
    {
      "cell_type": "code",
      "source": [
        "# Write your code here\n",
        "def print_multiplication_table(number, up_to=10):\n",
        "    \"\"\"\n",
        "    Prints the multiplication table of the given number up to the specified range.\n",
        "\n",
        "    Parameters:\n",
        "    - number: The number for which to print the multiplication table.\n",
        "    - up_to: The range up to which the table should be printed (inclusive). Default is 10.\n",
        "    \"\"\"\n",
        "    for i in range(1, up_to + 1):\n",
        "        print(f\"{number} x {i} = {number * i}\")\n",
        "\n",
        "print_multiplication_table(5)\n"
      ],
      "metadata": {
        "id": "ZlLy8g2kN6F7",
        "colab": {
          "base_uri": "https://localhost:8080/"
        },
        "outputId": "f06b6921-3339-4310-8739-3c5382727c4d"
      },
      "execution_count": null,
      "outputs": [
        {
          "output_type": "stream",
          "name": "stdout",
          "text": [
            "5 x 1 = 5\n",
            "5 x 2 = 10\n",
            "5 x 3 = 15\n",
            "5 x 4 = 20\n",
            "5 x 5 = 25\n",
            "5 x 6 = 30\n",
            "5 x 7 = 35\n",
            "5 x 8 = 40\n",
            "5 x 9 = 45\n",
            "5 x 10 = 50\n"
          ]
        }
      ]
    }
  ]
}