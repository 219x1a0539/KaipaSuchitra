{
  "nbformat": 4,
  "nbformat_minor": 0,
  "metadata": {
    "colab": {
      "provenance": [],
      "include_colab_link": true
    },
    "kernelspec": {
      "name": "python3",
      "display_name": "Python 3"
    },
    "language_info": {
      "name": "python"
    }
  },
  "cells": [
    {
      "cell_type": "markdown",
      "metadata": {
        "id": "view-in-github",
        "colab_type": "text"
      },
      "source": [
        "<a href=\"https://colab.research.google.com/github/219x1a0539/KaipaSuchitra/blob/main/FUNCTIONS_2__(1).ipynb\" target=\"_parent\"><img src=\"https://colab.research.google.com/assets/colab-badge.svg\" alt=\"Open In Colab\"/></a>"
      ]
    },
    {
      "cell_type": "markdown",
      "source": [
        "*** USE THE CONCEPT OF FUNCTIONS TO SOLVE THE BELOW PROGRAMMING QUESTIONS ***"
      ],
      "metadata": {
        "id": "iW-mnZaZRsWX"
      }
    },
    {
      "cell_type": "markdown",
      "source": [
        "1) Write a Python function that accepts a string and counts the number of upper and lower case letters.\n",
        "\n",
        "Sample String : 'The quick Brow Fox'\n",
        "\n",
        "Expected Output :\n",
        "\n",
        "No. of Upper case characters : 3\n",
        "\n",
        "No. of Lower case Characters : 12"
      ],
      "metadata": {
        "id": "gZjDc6eiRsYf"
      }
    },
    {
      "cell_type": "code",
      "source": [
        "#WRITE YOUR CODE HERE\n",
        "def count_upper_lower(s):\n",
        "    upper_count = 0\n",
        "    lower_count = 0\n",
        "    for char in s:\n",
        "        if char.isupper():\n",
        "            upper_count += 1\n",
        "        elif char.islower():\n",
        "            lower_count += 1\n",
        "    return upper_count, lower_count\n",
        "\n",
        "sample_string = 'The quick Brow Fox'\n",
        "upper, lower = count_upper_lower(sample_string)\n",
        "print(f\"No. of Upper case characters : {upper}\")\n",
        "print(f\"No. of Lower case Characters : {lower}\")\n"
      ],
      "metadata": {
        "id": "wGtk-weiR-5t",
        "colab": {
          "base_uri": "https://localhost:8080/"
        },
        "outputId": "9b5ca1aa-520a-4000-a74c-fdd53e99f438"
      },
      "execution_count": null,
      "outputs": [
        {
          "output_type": "stream",
          "name": "stdout",
          "text": [
            "No. of Upper case characters : 3\n",
            "No. of Lower case Characters : 12\n"
          ]
        }
      ]
    },
    {
      "cell_type": "markdown",
      "source": [
        "2) Write a Python function that takes a list and returns a new list with distinct elements from the first list.\n",
        "\n",
        "Sample List : [1,2,3,3,3,3,4,5]\n",
        "\n",
        "Unique List : [1, 2, 3, 4, 5]"
      ],
      "metadata": {
        "id": "bmt7_PqqRsaw"
      }
    },
    {
      "cell_type": "code",
      "source": [
        "#WRITE YOUR CODE HERE\n",
        "def unique_elements(input_list):\n",
        "    return list(set(input_list))\n",
        "\n",
        "sample_list = [1, 2, 3, 3, 3, 3, 4, 5]\n",
        "unique_list = unique_elements(sample_list)\n",
        "print(f\"Unique List: {unique_list}\")\n"
      ],
      "metadata": {
        "id": "Za2S_kbzSQJZ",
        "colab": {
          "base_uri": "https://localhost:8080/"
        },
        "outputId": "629bf3ea-c1ed-4264-cfa6-a8df994eff92"
      },
      "execution_count": null,
      "outputs": [
        {
          "output_type": "stream",
          "name": "stdout",
          "text": [
            "Unique List: [1, 2, 3, 4, 5]\n"
          ]
        }
      ]
    },
    {
      "cell_type": "code",
      "source": [
        "def unique_elements_ordered(input_list):\n",
        "    seen = set()\n",
        "    unique_list = []\n",
        "    for item in input_list:\n",
        "        if item not in seen:\n",
        "            unique_list.append(item)\n",
        "            seen.add(item)\n",
        "    return unique_list\n",
        "\n",
        "sample_list = [1, 2, 3, 3, 3, 3, 4, 5]\n",
        "unique_list_ordered = unique_elements_ordered(sample_list)\n",
        "print(f\"Unique List (Ordered): {unique_list_ordered}\")\n"
      ],
      "metadata": {
        "colab": {
          "base_uri": "https://localhost:8080/"
        },
        "id": "bSe-RoZLqi7v",
        "outputId": "1c44215c-ed4d-4b5c-e884-9ac53cb04a42"
      },
      "execution_count": null,
      "outputs": [
        {
          "output_type": "stream",
          "name": "stdout",
          "text": [
            "Unique List (Ordered): [1, 2, 3, 4, 5]\n"
          ]
        }
      ]
    },
    {
      "cell_type": "markdown",
      "source": [
        "3) Write a Python function that takes a number as a parameter and checks whether the number is prime or not.\n",
        "\n",
        "Note : A prime number (or a prime) is a natural number greater than 1 and that has no positive divisors other than 1 and itself."
      ],
      "metadata": {
        "id": "adx-jfbnRsdC"
      }
    },
    {
      "cell_type": "code",
      "source": [
        "#WRITE YOUR CODE HERE\n",
        "import math\n",
        "\n",
        "def is_prime(n):\n",
        "    if n <= 1:\n",
        "        return False\n",
        "    if n == 2:\n",
        "        return True\n",
        "    if n % 2 == 0:\n",
        "        return False\n",
        "    for i in range(3, int(math.sqrt(n)) + 1, 2):\n",
        "        if n % i == 0:\n",
        "            return False\n",
        "    return True\n",
        "\n",
        "number = 29\n",
        "if is_prime(number):\n",
        "    print(f\"{number} is a prime number.\")\n",
        "else:\n",
        "    print(f\"{number} is not a prime number.\")\n"
      ],
      "metadata": {
        "id": "RaBolJpSSa4N",
        "colab": {
          "base_uri": "https://localhost:8080/"
        },
        "outputId": "6ca455a5-64e7-4e58-9c7b-c33256c836ce"
      },
      "execution_count": null,
      "outputs": [
        {
          "output_type": "stream",
          "name": "stdout",
          "text": [
            "29 is a prime number.\n"
          ]
        }
      ]
    },
    {
      "cell_type": "markdown",
      "source": [
        "4)Write a Python program to print the even numbers from a given list.\n",
        "\n",
        "Sample List : [1, 2, 3, 4, 5, 6, 7, 8, 9]\n",
        "\n",
        "Expected Result : [2, 4, 6, 8]\n"
      ],
      "metadata": {
        "id": "P2i2bBwIRsfQ"
      }
    },
    {
      "cell_type": "code",
      "source": [
        "# WRITE YOUR CODE HERE\n",
        "def extract_even_numbers(numbers):\n",
        "    return [num for num in numbers if num % 2 == 0]\n",
        "\n",
        "sample_list = [1, 2, 3, 4, 5, 6, 7, 8, 9]\n",
        "\n",
        "even_numbers = extract_even_numbers(sample_list)\n",
        "print(\"Even numbers:\", even_numbers)\n"
      ],
      "metadata": {
        "id": "32Rk_UCp_pAT",
        "colab": {
          "base_uri": "https://localhost:8080/"
        },
        "outputId": "78cf6e04-a960-4c40-9c8d-2d8d7228ec18"
      },
      "execution_count": null,
      "outputs": [
        {
          "output_type": "stream",
          "name": "stdout",
          "text": [
            "Even numbers: [2, 4, 6, 8]\n"
          ]
        }
      ]
    },
    {
      "cell_type": "markdown",
      "source": [
        "5) Write a Python function to check whether a string is a pangram or not.\n",
        "\n",
        "Note : Pangrams are words or sentences containing every letter of the alphabet at least once.\n",
        "\n",
        "For example : \"The quick brown fox jumps over the lazy dog\""
      ],
      "metadata": {
        "id": "kaTTpignRsh7"
      }
    },
    {
      "cell_type": "code",
      "source": [
        "# WRITE YOUR CODE HERE\n",
        "import string\n",
        "\n",
        "def is_pangram(s):\n",
        "    alphabet_set = set(string.ascii_lowercase)\n",
        "    return alphabet_set <= set(s.lower())\n",
        "\n",
        "sample_sentence = \"The quick brown fox jumps over the lazy dog\"\n",
        "if is_pangram(sample_sentence):\n",
        "    print(f'\"{sample_sentence}\" is a pangram.')\n",
        "else:\n",
        "    print(f'\"{sample_sentence}\" is not a pangram.')\n"
      ],
      "metadata": {
        "id": "EHEntu3P_5s8",
        "colab": {
          "base_uri": "https://localhost:8080/"
        },
        "outputId": "b56523c2-68ec-455a-f441-706d59371987"
      },
      "execution_count": null,
      "outputs": [
        {
          "output_type": "stream",
          "name": "stdout",
          "text": [
            "\"The quick brown fox jumps over the lazy dog\" is a pangram.\n"
          ]
        }
      ]
    },
    {
      "cell_type": "markdown",
      "source": [],
      "metadata": {
        "id": "3InqavJfRslk"
      }
    }
  ]
}