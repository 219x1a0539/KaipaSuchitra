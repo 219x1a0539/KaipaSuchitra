{
  "nbformat": 4,
  "nbformat_minor": 0,
  "metadata": {
    "colab": {
      "provenance": [],
      "include_colab_link": true
    },
    "kernelspec": {
      "name": "python3",
      "display_name": "Python 3"
    },
    "language_info": {
      "name": "python"
    }
  },
  "cells": [
    {
      "cell_type": "markdown",
      "metadata": {
        "id": "view-in-github",
        "colab_type": "text"
      },
      "source": [
        "<a href=\"https://colab.research.google.com/github/219x1a0539/KaipaSuchitra/blob/main/lists_2_assignment.ipynb\" target=\"_parent\"><img src=\"https://colab.research.google.com/assets/colab-badge.svg\" alt=\"Open In Colab\"/></a>"
      ]
    },
    {
      "cell_type": "markdown",
      "source": [
        "1.Remove empty strings from the list1 of strings\n",
        "\n",
        "list1 = [\"Mike\", \" \", \"Emma\", \"Kelly\", \" \", \"Brad\"]\n",
        "\n",
        "\n"
      ],
      "metadata": {
        "id": "2caz_EPd5ui9"
      }
    },
    {
      "cell_type": "code",
      "source": [
        "list1 = [\"Mike\", \" \", \"Emma\", \"Kelly\", \" \", \"Brad\"]\n",
        "list1 = [item for item in list1 if item.strip()]\n",
        "print(list1)# write your code here"
      ],
      "metadata": {
        "id": "Q1BAsluP59Zu",
        "colab": {
          "base_uri": "https://localhost:8080/"
        },
        "outputId": "efafec3d-49c9-49e8-9c5d-6176134a0f52"
      },
      "execution_count": null,
      "outputs": [
        {
          "output_type": "stream",
          "name": "stdout",
          "text": [
            "['Mike', 'Emma', 'Kelly', 'Brad']\n"
          ]
        }
      ]
    },
    {
      "cell_type": "markdown",
      "source": [
        "2.Write a program to add item 7000 after 6000 in the following Python List\n",
        "\n",
        "list1 = [10, 20, [300, 400, [5000, 6000], 500], 30, 40]\n",
        "\n",
        "expected o/p ; [10, 20, [300, 400, [5000, 6000, 7000], 500], 30, 40]"
      ],
      "metadata": {
        "id": "dy5zj1nH6EeC"
      }
    },
    {
      "cell_type": "code",
      "source": [
        "#  write your code here\n",
        "list1 = [10, 20, [300, 400, [5000, 6000], 500], 30, 40]\n",
        "inner_list = list1[2][2]\n",
        "inner_list.append(7000)\n",
        "print(list1)\n"
      ],
      "metadata": {
        "id": "NvOK7zjS6Ypm",
        "colab": {
          "base_uri": "https://localhost:8080/"
        },
        "outputId": "0ce5e2d4-8f07-4963-c692-f06607ea24a1"
      },
      "execution_count": null,
      "outputs": [
        {
          "output_type": "stream",
          "name": "stdout",
          "text": [
            "[10, 20, [300, 400, [5000, 6000, 7000], 500], 30, 40]\n"
          ]
        }
      ]
    },
    {
      "cell_type": "markdown",
      "source": [
        "3.You have given a Python list. Write a program to find value 20 in the list, and if it is present, replace it with 200. Only update the first occurrence of an item.\n",
        "\n",
        "list1 = [5, 10, 15, 20, 25, 50, 20]\n",
        "\n",
        "Expected output:\n",
        "[5, 10, 15, 200, 25, 50, 20]"
      ],
      "metadata": {
        "id": "eKYYcluk6EoM"
      }
    },
    {
      "cell_type": "code",
      "source": [
        "#write your code here\n",
        "list1 = [5, 10, 15, 20, 25, 50, 20]\n",
        "\n",
        "try:\n",
        "    index = list1.index(20)\n",
        "    list1[index] = 200\n",
        "except ValueError:\n",
        "    pass\n",
        "print(list1)\n"
      ],
      "metadata": {
        "id": "Rr8oqp1k6vOX",
        "colab": {
          "base_uri": "https://localhost:8080/"
        },
        "outputId": "59b90c77-fefc-4b16-a300-735d07137daf"
      },
      "execution_count": null,
      "outputs": [
        {
          "output_type": "stream",
          "name": "stdout",
          "text": [
            "[5, 10, 15, 200, 25, 50, 20]\n"
          ]
        }
      ]
    },
    {
      "cell_type": "markdown",
      "source": [
        "4.Remove all occurrences of a specific item from a list.\n",
        "Given a Python list, write a program to remove all occurrences of item 20.\n",
        "\n",
        "list1 = [5, 20, 15, 20, 25, 50, 20]\n",
        "\n",
        "Expected output:\n",
        "\n",
        "[5, 15, 25, 50]"
      ],
      "metadata": {
        "id": "JbJhbXS46Eyn"
      }
    },
    {
      "cell_type": "code",
      "source": [
        "# write your code here\n",
        "list1 = [5, 20, 15, 20, 25, 50, 20]\n",
        "list1 = list(filter(lambda x: x != 20, list1))\n",
        "print(list1)\n"
      ],
      "metadata": {
        "id": "391fvowJ7DIs",
        "colab": {
          "base_uri": "https://localhost:8080/"
        },
        "outputId": "836003fd-f9c8-456d-86ae-628e44e0509f"
      },
      "execution_count": null,
      "outputs": [
        {
          "output_type": "stream",
          "name": "stdout",
          "text": [
            "[5, 15, 25, 50]\n"
          ]
        }
      ]
    },
    {
      "cell_type": "markdown",
      "source": [
        "5.Concatenate two lists in the following order\n",
        "\n",
        "list1 = [\"Hello \", \"take \"]\n",
        "\n",
        "list2 = [\"Dear\", \"Sir\"]\n",
        "\n",
        "Expected output:\n",
        "\n",
        "['Hello Dear', 'Hello Sir', 'take Dear', 'take Sir']"
      ],
      "metadata": {
        "id": "7wpuDD3R6E7g"
      }
    },
    {
      "cell_type": "code",
      "source": [
        "# write your code here\n",
        "list1 = [\"Hello \", \"take \"]\n",
        "list2 = [\"Dear\", \"Sir\"]\n",
        "result = [i + j for i in list1 for j in list2]\n",
        "print(result)\n"
      ],
      "metadata": {
        "id": "OAEqzjHy7b-h",
        "colab": {
          "base_uri": "https://localhost:8080/"
        },
        "outputId": "d0ecc7a7-d2e1-475c-b11a-fcf49c2bd05e"
      },
      "execution_count": null,
      "outputs": [
        {
          "output_type": "stream",
          "name": "stdout",
          "text": [
            "['Hello Dear', 'Hello Sir', 'take Dear', 'take Sir']\n"
          ]
        }
      ]
    }
  ]
}